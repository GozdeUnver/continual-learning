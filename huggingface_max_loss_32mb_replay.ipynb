{
 "cells": [
  {
   "cell_type": "code",
   "execution_count": 1,
   "metadata": {
    "execution": {
     "iopub.execute_input": "2024-05-30T15:38:23.061402Z",
     "iopub.status.busy": "2024-05-30T15:38:23.060809Z",
     "iopub.status.idle": "2024-05-30T15:38:23.073782Z",
     "shell.execute_reply": "2024-05-30T15:38:23.073315Z",
     "shell.execute_reply.started": "2024-05-30T15:38:23.061379Z"
    }
   },
   "outputs": [],
   "source": [
    "%load_ext autoreload\n",
    "%autoreload 2"
   ]
  },
  {
   "cell_type": "code",
   "execution_count": 2,
   "metadata": {
    "execution": {
     "iopub.execute_input": "2024-05-30T15:38:23.851647Z",
     "iopub.status.busy": "2024-05-30T15:38:23.850890Z",
     "iopub.status.idle": "2024-05-30T15:38:27.261937Z",
     "shell.execute_reply": "2024-05-30T15:38:27.261403Z",
     "shell.execute_reply.started": "2024-05-30T15:38:23.851607Z"
    },
    "tags": []
   },
   "outputs": [
    {
     "name": "stderr",
     "output_type": "stream",
     "text": [
      "/notebooks/venv/lib/python3.12/site-packages/tqdm/auto.py:21: TqdmWarning: IProgress not found. Please update jupyter and ipywidgets. See https://ipywidgets.readthedocs.io/en/stable/user_install.html\n",
      "  from .autonotebook import tqdm as notebook_tqdm\n",
      "/notebooks/venv/lib/python3.12/site-packages/huggingface_hub/file_download.py:1132: FutureWarning: `resume_download` is deprecated and will be removed in version 1.0.0. Downloads always resume when possible. If you want to force a new download, use `force_download=True`.\n",
      "  warnings.warn(\n"
     ]
    }
   ],
   "source": [
    "import torch\n",
    "import os\n",
    "from utils.common import (\n",
    "    m2f_dataset_collate,\n",
    "    m2f_extract_pred_maps_and_masks,\n",
    "    BG_VALUE_255,\n",
    "    set_seed,\n",
    "    pixel_mean_std,\n",
    "    CADIS_PIXEL_MEAN,\n",
    "    CADIS_PIXEL_STD,\n",
    ")\n",
    "from utils.dataset_utils import (\n",
    "    get_cadisv2_dataset,\n",
    "    get_cataract1k_dataset,\n",
    "    ZEISS_CATEGORIES,\n",
    ")\n",
    "from utils.medical_datasets import Mask2FormerDataset\n",
    "from transformers import (\n",
    "    Mask2FormerForUniversalSegmentation,\n",
    "    SwinModel,\n",
    "    SwinConfig,\n",
    "    Mask2FormerConfig,\n",
    "    AutoImageProcessor,\n",
    "    Mask2FormerImageProcessor,\n",
    ")\n",
    "from torch.utils.data import DataLoader\n",
    "import evaluate\n",
    "import torch.optim as optim\n",
    "from tqdm import tqdm\n",
    "from torch.utils.tensorboard import SummaryWriter\n",
    "import numpy as np\n",
    "from dotenv import load_dotenv\n",
    "import wandb"
   ]
  },
  {
   "cell_type": "code",
   "execution_count": 3,
   "metadata": {
    "execution": {
     "iopub.execute_input": "2024-05-30T15:38:27.263376Z",
     "iopub.status.busy": "2024-05-30T15:38:27.262864Z",
     "iopub.status.idle": "2024-05-30T15:38:27.304336Z",
     "shell.execute_reply": "2024-05-30T15:38:27.303856Z",
     "shell.execute_reply.started": "2024-05-30T15:38:27.263357Z"
    }
   },
   "outputs": [],
   "source": [
    "set_seed(42) # seed everything"
   ]
  },
  {
   "cell_type": "code",
   "execution_count": 4,
   "metadata": {
    "execution": {
     "iopub.execute_input": "2024-05-30T15:38:27.305172Z",
     "iopub.status.busy": "2024-05-30T15:38:27.304993Z",
     "iopub.status.idle": "2024-05-30T15:38:29.160870Z",
     "shell.execute_reply": "2024-05-30T15:38:29.160390Z",
     "shell.execute_reply.started": "2024-05-30T15:38:27.305158Z"
    },
    "tags": []
   },
   "outputs": [
    {
     "name": "stderr",
     "output_type": "stream",
     "text": [
      "/notebooks/venv/lib/python3.12/site-packages/huggingface_hub/file_download.py:1132: FutureWarning: `resume_download` is deprecated and will be removed in version 1.0.0. Downloads always resume when possible. If you want to force a new download, use `force_download=True`.\n",
      "  warnings.warn(\n"
     ]
    },
    {
     "name": "stdout",
     "output_type": "stream",
     "text": [
      "Not Matched: hidden_states_norms.stage1.weight != layernorm.weight\n",
      "Not Matched: hidden_states_norms.stage1.bias != layernorm.bias\n"
     ]
    }
   ],
   "source": [
    "NUM_CLASSES = len(ZEISS_CATEGORIES) - 3  # Remove class incremental\n",
    "SWIN_BACKBONE = \"microsoft/swin-tiny-patch4-window7-224\"#\"microsoft/swin-large-patch4-window12-384\"\n",
    "\n",
    "# Download pretrained swin model\n",
    "swin_model = SwinModel.from_pretrained(\n",
    "    SWIN_BACKBONE, out_features=[\"stage1\", \"stage2\", \"stage3\", \"stage4\"]\n",
    ")\n",
    "swin_config = SwinConfig.from_pretrained(\n",
    "    SWIN_BACKBONE, out_features=[\"stage1\", \"stage2\", \"stage3\", \"stage4\"]\n",
    ")\n",
    "\n",
    "# Create Mask2Former configuration based on Swin's configuration\n",
    "mask2former_config = Mask2FormerConfig(\n",
    "    backbone_config=swin_config, num_labels=NUM_CLASSES #, ignore_value=BG_VALUE\n",
    ")\n",
    "\n",
    "# Create the Mask2Former model with this configuration\n",
    "model = Mask2FormerForUniversalSegmentation(mask2former_config)\n",
    "\n",
    "# Reuse pretrained parameters\n",
    "for swin_param, m2f_param in zip(\n",
    "    swin_model.named_parameters(),\n",
    "    model.model.pixel_level_module.encoder.named_parameters(),\n",
    "):\n",
    "    m2f_param_name = f\"model.pixel_level_module.encoder.{m2f_param[0]}\"\n",
    "\n",
    "    if swin_param[0] == m2f_param[0]:\n",
    "        model.state_dict()[m2f_param_name].copy_(swin_param[1])\n",
    "        continue\n",
    "\n",
    "    print(f\"Not Matched: {m2f_param[0]} != {swin_param[0]}\")"
   ]
  },
  {
   "cell_type": "code",
   "execution_count": 5,
   "metadata": {
    "execution": {
     "iopub.execute_input": "2024-05-30T15:38:29.162678Z",
     "iopub.status.busy": "2024-05-30T15:38:29.161843Z",
     "iopub.status.idle": "2024-05-30T15:39:45.448967Z",
     "shell.execute_reply": "2024-05-30T15:39:45.448278Z",
     "shell.execute_reply.started": "2024-05-30T15:38:29.162660Z"
    },
    "tags": []
   },
   "outputs": [
    {
     "name": "stderr",
     "output_type": "stream",
     "text": [
      "/notebooks/venv/lib/python3.12/site-packages/huggingface_hub/file_download.py:1132: FutureWarning: `resume_download` is deprecated and will be removed in version 1.0.0. Downloads always resume when possible. If you want to force a new download, use `force_download=True`.\n",
      "  warnings.warn(\n",
      "Could not find image processor class in the image processor config or the model config. Loading based on pattern matching with the model's feature extractor configuration. Please open a PR/issue to update `preprocessor_config.json` to use `image_processor_type` instead of `feature_extractor_type`. This warning will be removed in v4.40.\n"
     ]
    },
    {
     "name": "stdout",
     "output_type": "stream",
     "text": [
      "pixel mean of B [0.32117264 0.28945913 0.21137104] pixel std: [0.30119563 0.25390536 0.22080096]\n",
      "{'A': {'train': <torch.utils.data.dataloader.DataLoader object at 0x7f546657a5a0>, 'val': <torch.utils.data.dataloader.DataLoader object at 0x7f546657a630>, 'test': <torch.utils.data.dataloader.DataLoader object at 0x7f546657a450>}, 'B': {'train': <torch.utils.data.dataloader.DataLoader object at 0x7f54666b02c0>, 'val': <torch.utils.data.dataloader.DataLoader object at 0x7f546657a390>, 'test': <torch.utils.data.dataloader.DataLoader object at 0x7f546657a060>}}\n"
     ]
    }
   ],
   "source": [
    "# Helper function to load datasets\n",
    "def load_dataset(dataset_getter, data_path, domain_incremental):\n",
    "    return dataset_getter(data_path, domain_incremental=domain_incremental)\n",
    "\n",
    "\n",
    "# Helper function to create dataloaders for a dataset\n",
    "def create_dataloaders(\n",
    "    dataset, batch_size, shuffle, num_workers, drop_last, pin_memory, collate_fn\n",
    "):\n",
    "    return {\n",
    "        \"train\": DataLoader(\n",
    "            dataset[\"train\"],\n",
    "            batch_size=batch_size,\n",
    "            shuffle=shuffle,\n",
    "            num_workers=num_workers,\n",
    "            drop_last=drop_last,\n",
    "            pin_memory=pin_memory,\n",
    "            collate_fn=collate_fn,\n",
    "        ),\n",
    "        \"val\": DataLoader(\n",
    "            dataset[\"val\"],\n",
    "            batch_size=batch_size,\n",
    "            shuffle=shuffle,\n",
    "            num_workers=num_workers,\n",
    "            drop_last=drop_last,\n",
    "            pin_memory=pin_memory,\n",
    "            collate_fn=collate_fn,\n",
    "        ),\n",
    "        \"test\": DataLoader(\n",
    "            dataset[\"test\"],\n",
    "            batch_size=batch_size,\n",
    "            shuffle=shuffle,\n",
    "            num_workers=num_workers,\n",
    "            drop_last=drop_last,\n",
    "            pin_memory=pin_memory,\n",
    "            collate_fn=collate_fn,\n",
    "        ),\n",
    "    }\n",
    "\n",
    "\n",
    "# Load datasets\n",
    "datasets = {\n",
    "    \"A\": load_dataset(get_cadisv2_dataset, \"../../storage/data/CaDISv2\", True),\n",
    "    \"B\": load_dataset(get_cataract1k_dataset, \"../../storage/data/cataract-1k\", True),\n",
    "}\n",
    "\n",
    "# pixel_mean_A,pixel_std_A=pixel_mean_std(datasets[\"A\"][0])\n",
    "pixel_mean_A = CADIS_PIXEL_MEAN\n",
    "pixel_std_A = CADIS_PIXEL_STD\n",
    "\n",
    "# This time define the B train dataset such that it replays approximately\n",
    "# 32 MBs of images from the previous dataset. Each image is approximately 700 kBs\n",
    "# Generate N random indices from dataset A\n",
    "N = int(32 / 0.7)\n",
    "random_indices = torch.randperm(len(datasets[\"A\"][0]))[:N]\n",
    "\n",
    "# Create a subset of B using the randomly sampled indices\n",
    "subset_A = torch.utils.data.Subset(datasets[\"A\"][0], random_indices)\n",
    "new_train = torch.utils.data.ConcatDataset([subset_A, datasets[\"B\"][0]])\n",
    "\n",
    "pixel_mean_B,pixel_std_B=pixel_mean_std(new_train)\n",
    "print(\"pixel mean of B\",pixel_mean_B,\"pixel std:\",pixel_std_B)\n",
    "#pixel_mean_B = REPLAY32_PIXEL_MEAN\n",
    "#pixel_std_B = REPLAY32_PIXEL_STD\n",
    "\n",
    "datasets[\"B\"] = (new_train, datasets[\"B\"][1], datasets[\"B\"][2])\n",
    "\n",
    "# Define preprocessor\n",
    "swin_processor = AutoImageProcessor.from_pretrained(SWIN_BACKBONE)\n",
    "m2f_preprocessor_A = Mask2FormerImageProcessor(\n",
    "    reduce_labels=True,\n",
    "    ignore_index=255,\n",
    "    do_resize=False,\n",
    "    do_rescale=True,\n",
    "    do_normalize=True,\n",
    "    image_std=pixel_std_A,\n",
    "    image_mean=pixel_mean_A,\n",
    ")\n",
    "\n",
    "m2f_preprocessor_B = Mask2FormerImageProcessor(\n",
    "    reduce_labels=True,\n",
    "    ignore_index=255,\n",
    "    do_resize=False,\n",
    "    do_rescale=True,\n",
    "    do_normalize=True,\n",
    "    image_std=pixel_std_B,\n",
    "    image_mean=pixel_mean_B,\n",
    ")\n",
    "\n",
    "# Create Mask2Former Datasets\n",
    "\n",
    "m2f_datasets = {\n",
    "    \"A\": {\n",
    "        \"train\": Mask2FormerDataset(datasets[\"A\"][0], m2f_preprocessor_A),\n",
    "        \"val\": Mask2FormerDataset(datasets[\"A\"][1], m2f_preprocessor_A),\n",
    "        \"test\": Mask2FormerDataset(datasets[\"A\"][2], m2f_preprocessor_A),\n",
    "    },\n",
    "    \"B\": {\n",
    "        \"train\": Mask2FormerDataset(datasets[\"B\"][0], m2f_preprocessor_B),\n",
    "        \"val\": Mask2FormerDataset(datasets[\"B\"][1], m2f_preprocessor_B),\n",
    "        \"test\": Mask2FormerDataset(datasets[\"B\"][2], m2f_preprocessor_B),\n",
    "    },\n",
    "}\n",
    "\n",
    "# DataLoader parameters\n",
    "N_WORKERS = 4\n",
    "BATCH_SIZE = 16\n",
    "SHUFFLE = True\n",
    "DROP_LAST = True\n",
    "\n",
    "dataloader_params = {\n",
    "    \"batch_size\": BATCH_SIZE,\n",
    "    \"shuffle\": SHUFFLE,\n",
    "    \"num_workers\": N_WORKERS,\n",
    "    \"drop_last\": DROP_LAST,\n",
    "    \"pin_memory\": True,\n",
    "    \"collate_fn\": m2f_dataset_collate,\n",
    "}\n",
    "\n",
    "# Create DataLoaders\n",
    "dataloaders = {\n",
    "    key: create_dataloaders(m2f_datasets[key], **dataloader_params)\n",
    "    for key in m2f_datasets\n",
    "}\n",
    "\n",
    "print(dataloaders)"
   ]
  },
  {
   "cell_type": "code",
   "execution_count": 6,
   "metadata": {
    "execution": {
     "iopub.execute_input": "2024-05-30T15:39:45.452023Z",
     "iopub.status.busy": "2024-05-30T15:39:45.451835Z",
     "iopub.status.idle": "2024-05-30T15:39:46.499150Z",
     "shell.execute_reply": "2024-05-30T15:39:46.498415Z",
     "shell.execute_reply.started": "2024-05-30T15:39:45.452008Z"
    },
    "tags": []
   },
   "outputs": [
    {
     "name": "stdout",
     "output_type": "stream",
     "text": [
      "Using device: cuda\n"
     ]
    }
   ],
   "source": [
    "# Check if CUDA is available, otherwise use CPU\n",
    "device = torch.device(\"cuda\" if torch.cuda.is_available() else \"cpu\")\n",
    "\n",
    "print(f\"Using device: {device}\")"
   ]
  },
  {
   "cell_type": "code",
   "execution_count": 7,
   "metadata": {
    "execution": {
     "iopub.execute_input": "2024-05-30T15:39:46.500245Z",
     "iopub.status.busy": "2024-05-30T15:39:46.500065Z",
     "iopub.status.idle": "2024-05-30T15:39:49.555949Z",
     "shell.execute_reply": "2024-05-30T15:39:49.555364Z",
     "shell.execute_reply.started": "2024-05-30T15:39:46.500230Z"
    },
    "tags": []
   },
   "outputs": [
    {
     "data": {
      "text/html": [
       "\n",
       "      <iframe id=\"tensorboard-frame-1c80317fa3b1799d\" width=\"100%\" height=\"800\" frameborder=\"0\">\n",
       "      </iframe>\n",
       "      <script>\n",
       "        (function() {\n",
       "          const frame = document.getElementById(\"tensorboard-frame-1c80317fa3b1799d\");\n",
       "          const url = new URL(\"/\", window.location);\n",
       "          const port = 6006;\n",
       "          if (port) {\n",
       "            url.port = port;\n",
       "          }\n",
       "          frame.src = url;\n",
       "        })();\n",
       "      </script>\n",
       "    "
      ],
      "text/plain": [
       "<IPython.core.display.HTML object>"
      ]
     },
     "metadata": {},
     "output_type": "display_data"
    }
   ],
   "source": [
    "# Tensorboard setup\n",
    "out_dir=\"outputs/\"\n",
    "if not os.path.exists(out_dir):\n",
    "    os.makedirs(out_dir)\n",
    "if not os.path.exists(out_dir+\"runs\"):\n",
    "    os.makedirs(out_dir+\"runs\")\n",
    "%load_ext tensorboard\n",
    "%tensorboard --logdir outputs/runs"
   ]
  },
  {
   "cell_type": "code",
   "execution_count": null,
   "metadata": {},
   "outputs": [],
   "source": [
    "#!rm -r outputs"
   ]
  },
  {
   "cell_type": "code",
   "execution_count": null,
   "metadata": {},
   "outputs": [],
   "source": [
    "#!CUDA_LAUNCH_BLOCKING=1"
   ]
  },
  {
   "cell_type": "markdown",
   "metadata": {},
   "source": [
    "# First train on dataset A"
   ]
  },
  {
   "cell_type": "code",
   "execution_count": 8,
   "metadata": {
    "execution": {
     "iopub.execute_input": "2024-05-30T15:39:49.557601Z",
     "iopub.status.busy": "2024-05-30T15:39:49.557403Z",
     "iopub.status.idle": "2024-05-30T15:39:49.795692Z",
     "shell.execute_reply": "2024-05-30T15:39:49.795230Z",
     "shell.execute_reply.started": "2024-05-30T15:39:49.557585Z"
    }
   },
   "outputs": [],
   "source": [
    "# Training\n",
    "NUM_EPOCHS = 200\n",
    "LEARNING_RATE = 1e-4\n",
    "LR_MULTIPLIER = 0.1\n",
    "BACKBONE_LR = LEARNING_RATE * LR_MULTIPLIER\n",
    "WEIGHT_DECAY = 0.05\n",
    "PATIENCE=15\n",
    "metric = evaluate.load(\"mean_iou\")\n",
    "encoder_params = [\n",
    "    param\n",
    "    for name, param in model.named_parameters()\n",
    "    if name.startswith(\"model.pixel_level_module.encoder\")\n",
    "]\n",
    "decoder_params = [\n",
    "    param\n",
    "    for name, param in model.named_parameters()\n",
    "    if name.startswith(\"model.pixel_level_module.decoder\")\n",
    "]\n",
    "transformer_params = [\n",
    "    param\n",
    "    for name, param in model.named_parameters()\n",
    "    if name.startswith(\"model.transformer_module\")\n",
    "]\n",
    "optimizer = optim.AdamW(\n",
    "    [\n",
    "        {\"params\": encoder_params, \"lr\": BACKBONE_LR},\n",
    "        {\"params\": decoder_params},\n",
    "        {\"params\": transformer_params},\n",
    "    ],\n",
    "    lr=LEARNING_RATE,\n",
    "    weight_decay=WEIGHT_DECAY,\n",
    ")\n",
    "\n",
    "scheduler = optim.lr_scheduler.PolynomialLR(\n",
    "    optimizer, total_iters=NUM_EPOCHS, power=0.9\n",
    ")"
   ]
  },
  {
   "cell_type": "code",
   "execution_count": 9,
   "metadata": {
    "execution": {
     "iopub.execute_input": "2024-05-30T15:39:49.796861Z",
     "iopub.status.busy": "2024-05-30T15:39:49.796283Z",
     "iopub.status.idle": "2024-05-30T15:39:50.685958Z",
     "shell.execute_reply": "2024-05-30T15:39:50.685525Z",
     "shell.execute_reply.started": "2024-05-30T15:39:49.796845Z"
    }
   },
   "outputs": [
    {
     "name": "stderr",
     "output_type": "stream",
     "text": [
      "Failed to detect the name of this notebook, you can set it manually with the WANDB_NOTEBOOK_NAME environment variable to enable code saving.\n",
      "\u001b[34m\u001b[1mwandb\u001b[0m: Currently logged in as: \u001b[33mkristiyan-sakalyan\u001b[0m (\u001b[33mcontinual-learning-tum\u001b[0m). Use \u001b[1m`wandb login --relogin`\u001b[0m to force relogin\n"
     ]
    },
    {
     "data": {
      "text/plain": [
       "True"
      ]
     },
     "execution_count": 9,
     "metadata": {},
     "output_type": "execute_result"
    }
   ],
   "source": [
    "# WandB for team usage !!!!\n",
    "\n",
    "wandb.login() # use this one if a different person is going to run the notebook\n",
    "#wandb.login(relogin=False) # if the same person in the last run is going to run the notebook again\n"
   ]
  },
  {
   "cell_type": "code",
   "execution_count": 12,
   "metadata": {},
   "outputs": [
    {
     "name": "stderr",
     "output_type": "stream",
     "text": [
      "\u001b[34m\u001b[1mwandb\u001b[0m: Currently logged in as: \u001b[33mge85ket\u001b[0m (\u001b[33mcontinual-learning-tum\u001b[0m). Use \u001b[1m`wandb login --relogin`\u001b[0m to force relogin\n"
     ]
    },
    {
     "data": {
      "text/html": [
       "Tracking run with wandb version 0.17.0"
      ],
      "text/plain": [
       "<IPython.core.display.HTML object>"
      ]
     },
     "metadata": {},
     "output_type": "display_data"
    },
    {
     "data": {
      "text/html": [
       "Run data is saved locally in <code>/notebooks/continual-learning/wandb/run-20240514_151852-16tfoei1</code>"
      ],
      "text/plain": [
       "<IPython.core.display.HTML object>"
      ]
     },
     "metadata": {},
     "output_type": "display_data"
    },
    {
     "data": {
      "text/html": [
       "Syncing run <strong><a href='https://wandb.ai/continual-learning-tum/M2F_original/runs/16tfoei1' target=\"_blank\">M2F-Swin-Tiny-Train_Cadis</a></strong> to <a href='https://wandb.ai/continual-learning-tum/M2F_original' target=\"_blank\">Weights & Biases</a> (<a href='https://wandb.me/run' target=\"_blank\">docs</a>)<br/>"
      ],
      "text/plain": [
       "<IPython.core.display.HTML object>"
      ]
     },
     "metadata": {},
     "output_type": "display_data"
    },
    {
     "data": {
      "text/html": [
       " View project at <a href='https://wandb.ai/continual-learning-tum/M2F_original' target=\"_blank\">https://wandb.ai/continual-learning-tum/M2F_original</a>"
      ],
      "text/plain": [
       "<IPython.core.display.HTML object>"
      ]
     },
     "metadata": {},
     "output_type": "display_data"
    },
    {
     "data": {
      "text/html": [
       " View run at <a href='https://wandb.ai/continual-learning-tum/M2F_original/runs/16tfoei1' target=\"_blank\">https://wandb.ai/continual-learning-tum/M2F_original/runs/16tfoei1</a>"
      ],
      "text/plain": [
       "<IPython.core.display.HTML object>"
      ]
     },
     "metadata": {},
     "output_type": "display_data"
    },
    {
     "data": {
      "text/html": [
       "<button onClick=\"this.nextSibling.style.display='block';this.style.display='none';\">Display W&B run</button><iframe src='https://wandb.ai/continual-learning-tum/M2F_original/runs/16tfoei1?jupyter=true' style='border:none;width:100%;height:420px;display:none;'></iframe>"
      ],
      "text/plain": [
       "<wandb.sdk.wandb_run.Run at 0x7f03fb916b70>"
      ]
     },
     "execution_count": 12,
     "metadata": {},
     "output_type": "execute_result"
    }
   ],
   "source": [
    "wandb.init(\n",
    "    project=\"M2F_original\",\n",
    "    config={\n",
    "        \"learning_rate\": LEARNING_RATE,\n",
    "        \"learning_rate_multiplier\": LR_MULTIPLIER,\n",
    "        \"backbone_learning_rate\": BACKBONE_LR,\n",
    "        \"learning_rate_scheduler\": scheduler.__class__.__name__,\n",
    "        \"optimizer\": optimizer.__class__.__name__,\n",
    "        \"backbone\": SWIN_BACKBONE,\n",
    "        \"m2f_preprocessor\": m2f_preprocessor_A.__dict__,\n",
    "        \"m2f_model_config\": model.config\n",
    "    },\n",
    "    name=\"M2F-Swin-Tiny-Train_Cadis\",\n",
    "    notes=\"M2F with tiny Swin backbone pretrained on ImageNet-1K. \\\n",
    "        Scenario: Train on A, Test on A\"\n",
    ")"
   ]
  },
  {
   "cell_type": "code",
   "execution_count": 10,
   "metadata": {
    "execution": {
     "iopub.execute_input": "2024-05-30T15:39:50.687209Z",
     "iopub.status.busy": "2024-05-30T15:39:50.686583Z",
     "iopub.status.idle": "2024-05-30T15:39:50.731272Z",
     "shell.execute_reply": "2024-05-30T15:39:50.730840Z",
     "shell.execute_reply.started": "2024-05-30T15:39:50.687190Z"
    }
   },
   "outputs": [],
   "source": [
    "# Tensorboard logging\n",
    "writer = SummaryWriter(log_dir=out_dir + \"runs\")\n",
    "\n",
    "# Model checkpointing\n",
    "base_model_name=\"m2f_swin_backbone_train_cadis\"\n",
    "model_dir = out_dir + \"models/\"\n",
    "if not os.path.exists(model_dir):\n",
    "    print(\"Store weights in: \", model_dir)\n",
    "    os.makedirs(model_dir)\n",
    "\n",
    "best_model_dir = model_dir + f\"{base_model_name}/best_model/\"\n",
    "if not os.path.exists(best_model_dir):\n",
    "    print(\"Store best model weights in: \", best_model_dir)\n",
    "    os.makedirs(best_model_dir)\n",
    "final_model_dir = model_dir + f\"{base_model_name}/final_model/\"\n",
    "if not os.path.exists(final_model_dir):\n",
    "    print(\"Store final model weights in: \", final_model_dir)\n",
    "    os.makedirs(final_model_dir)\n",
    "    "
   ]
  },
  {
   "cell_type": "code",
   "execution_count": 17,
   "metadata": {},
   "outputs": [
    {
     "data": {
      "text/plain": [
       "['outputs/models/m2f_swin_backbone_train_cadis/preprocessor_config.json']"
      ]
     },
     "execution_count": 17,
     "metadata": {},
     "output_type": "execute_result"
    }
   ],
   "source": [
    "# Save the preprocessor\n",
    "m2f_preprocessor_A.save_pretrained(model_dir + base_model_name)"
   ]
  },
  {
   "cell_type": "code",
   "execution_count": 18,
   "metadata": {
    "tags": []
   },
   "outputs": [
    {
     "name": "stderr",
     "output_type": "stream",
     "text": [
      "Epoch 1/200 Training:   0%|          | 0/1775 [00:01<?, ?it/s, loss=222.9132]\n",
      "/root/.cache/huggingface/modules/evaluate_modules/metrics/evaluate-metric--mean_iou/9e450724f21f05592bfb0255fe2fa576df8171fa060d11121d8aecfff0db80d0/mean_iou.py:259: RuntimeWarning: invalid value encountered in divide\n",
      "  iou = total_area_intersect / total_area_union\n",
      "/root/.cache/huggingface/modules/evaluate_modules/metrics/evaluate-metric--mean_iou/9e450724f21f05592bfb0255fe2fa576df8171fa060d11121d8aecfff0db80d0/mean_iou.py:260: RuntimeWarning: invalid value encountered in divide\n",
      "  acc = total_area_intersect / total_area_label\n",
      "Epoch 1/200 Validation:   0%|          | 0/267 [00:01<?, ?it/s, loss=194.8053]\n"
     ]
    },
    {
     "name": "stdout",
     "output_type": "stream",
     "text": [
      "Epoch 1/200, Train Loss: 0.0628, Train mIoU: 0.0000, Validation Loss: 0.3648, Validation mIoU: 0.2076\n"
     ]
    }
   ],
   "source": [
    "# To avoid making stupid errors\n",
    "CURR_TASK = \"A\"\n",
    "\n",
    "# For storing the model\n",
    "best_val_metric = -np.inf\n",
    "\n",
    "# Move model to device\n",
    "model.to(device)\n",
    "counter=0\n",
    "for epoch in range(NUM_EPOCHS):\n",
    "    model.train()\n",
    "    train_running_loss = 0.0\n",
    "    val_running_loss = 0.0\n",
    "\n",
    "    # Set up tqdm for the training loop\n",
    "    train_loader = tqdm(\n",
    "        dataloaders[CURR_TASK][\"train\"], desc=f\"Epoch {epoch + 1}/{NUM_EPOCHS} Training\"\n",
    "    )\n",
    "\n",
    "    for batch in train_loader:\n",
    "        # Move everything to the device\n",
    "        batch[\"pixel_values\"] = batch[\"pixel_values\"].to(device)\n",
    "        batch[\"pixel_mask\"] = batch[\"pixel_mask\"].to(device)\n",
    "        batch[\"mask_labels\"] = [entry.to(device) for entry in batch[\"mask_labels\"]]\n",
    "        batch[\"class_labels\"] = [entry.to(device) for entry in batch[\"class_labels\"]]\n",
    "\n",
    "        # Compute output and loss\n",
    "        outputs = model(**batch)\n",
    "\n",
    "        loss = outputs.loss\n",
    "\n",
    "        # Compute gradient and perform step\n",
    "        optimizer.zero_grad()\n",
    "        loss.backward()\n",
    "        optimizer.step()\n",
    "\n",
    "        # Record losses\n",
    "        current_loss = loss.item() * batch[\"pixel_values\"].size(0)\n",
    "        train_running_loss += current_loss\n",
    "        train_loader.set_postfix(loss=f\"{current_loss:.4f}\")\n",
    "\n",
    "        # Extract and compute metrics\n",
    "        pred_maps, masks = m2f_extract_pred_maps_and_masks(\n",
    "            batch, outputs, m2f_preprocessor_A\n",
    "        )\n",
    "        metric.add_batch(references=masks, predictions=pred_maps)\n",
    "        \n",
    "    \n",
    "\n",
    "    # After compute the batches that were added are deleted\n",
    "    mean_train_iou = metric.compute(\n",
    "        num_labels=NUM_CLASSES, ignore_index=BG_VALUE_255, reduce_labels=False\n",
    "    )[\"mean_iou\"]\n",
    "\n",
    "    # Validation phase\n",
    "    model.eval()\n",
    "    val_loader = tqdm(\n",
    "        dataloaders[CURR_TASK][\"val\"], desc=f\"Epoch {epoch + 1}/{NUM_EPOCHS} Validation\"\n",
    "    )\n",
    "    with torch.no_grad():\n",
    "        for batch in val_loader:\n",
    "            # Move everything to the device\n",
    "            batch[\"pixel_values\"] = batch[\"pixel_values\"].to(device)\n",
    "            batch[\"pixel_mask\"] = batch[\"pixel_mask\"].to(device)\n",
    "            batch[\"mask_labels\"] = [entry.to(device) for entry in batch[\"mask_labels\"]]\n",
    "            batch[\"class_labels\"] = [\n",
    "                entry.to(device) for entry in batch[\"class_labels\"]\n",
    "            ]\n",
    "            # Compute output and loss\n",
    "            outputs = model(**batch)\n",
    "\n",
    "            loss = outputs.loss\n",
    "            # Record losses\n",
    "            current_loss = loss.item() * batch[\"pixel_values\"].size(0)\n",
    "            val_running_loss += current_loss\n",
    "            val_loader.set_postfix(loss=f\"{current_loss:.4f}\")\n",
    "\n",
    "            # Extract and compute metrics\n",
    "            pred_maps, masks = m2f_extract_pred_maps_and_masks(\n",
    "                batch, outputs, m2f_preprocessor_A\n",
    "            )\n",
    "            metric.add_batch(references=masks, predictions=pred_maps)\n",
    "            \n",
    "\n",
    "    # After compute the batches that were added are deleted\n",
    "    mean_val_iou = metric.compute(\n",
    "        num_labels=NUM_CLASSES, ignore_index=BG_VALUE_255, reduce_labels=False\n",
    "    )[\"mean_iou\"]\n",
    "\n",
    "    epoch_train_loss = train_running_loss / len(dataloaders[CURR_TASK][\"train\"].dataset)\n",
    "    epoch_val_loss = val_running_loss / len(dataloaders[CURR_TASK][\"val\"].dataset)\n",
    "\n",
    "    writer.add_scalar(f\"Loss/train_{base_model_name}_{CURR_TASK}\", epoch_train_loss, epoch + 1)\n",
    "    writer.add_scalar(f\"Loss/val_{base_model_name}_{CURR_TASK}\", epoch_val_loss, epoch + 1)\n",
    "    writer.add_scalar(f\"mIoU/train_{base_model_name}_{CURR_TASK}\", mean_train_iou, epoch + 1)\n",
    "    writer.add_scalar(f\"mIoU/val_{base_model_name}_{CURR_TASK}\", mean_val_iou, epoch + 1)\n",
    "\n",
    "    wandb.log({\n",
    "        f\"Loss/train_{CURR_TASK}\": epoch_train_loss,\n",
    "        f\"Loss/val_{CURR_TASK}\": epoch_val_loss,\n",
    "        f\"mIoU/train_{CURR_TASK}\": mean_train_iou,\n",
    "        f\"mIoU/val_{CURR_TASK}\": mean_val_iou\n",
    "    })\n",
    "\n",
    "\n",
    "    tqdm.write(\n",
    "        f\"Epoch {epoch + 1}/{NUM_EPOCHS}, Train Loss: {epoch_train_loss:.4f}, Train mIoU: {mean_train_iou:.4f}, Validation Loss: {epoch_val_loss:.4f}, Validation mIoU: {mean_val_iou:.4f}\"\n",
    "    )\n",
    "    \n",
    "    if mean_val_iou > best_val_metric:\n",
    "        best_val_metric = mean_val_iou\n",
    "        model.save_pretrained(f\"{best_model_dir}{CURR_TASK}/\")\n",
    "        counter=0\n",
    "    else:\n",
    "        counter+=1\n",
    "        if counter == PATIENCE:\n",
    "            print(\"Early stopping at epoch\",epoch)\n",
    "            break"
   ]
  },
  {
   "cell_type": "markdown",
   "metadata": {
    "tags": []
   },
   "source": [
    "## Test results on A"
   ]
  },
  {
   "cell_type": "code",
   "execution_count": 11,
   "metadata": {
    "execution": {
     "iopub.execute_input": "2024-05-30T15:39:50.732449Z",
     "iopub.status.busy": "2024-05-30T15:39:50.731900Z",
     "iopub.status.idle": "2024-05-30T15:39:53.324083Z",
     "shell.execute_reply": "2024-05-30T15:39:53.323632Z",
     "shell.execute_reply.started": "2024-05-30T15:39:50.732433Z"
    }
   },
   "outputs": [],
   "source": [
    "# Load best model and evaluate on test\n",
    "CURR_TASK = \"A\"\n",
    "model = Mask2FormerForUniversalSegmentation.from_pretrained(f\"{best_model_dir}{CURR_TASK}/\").to(device)"
   ]
  },
  {
   "cell_type": "code",
   "execution_count": 12,
   "metadata": {
    "execution": {
     "iopub.execute_input": "2024-05-30T15:39:53.325310Z",
     "iopub.status.busy": "2024-05-30T15:39:53.324818Z",
     "iopub.status.idle": "2024-05-30T15:40:27.773818Z",
     "shell.execute_reply": "2024-05-30T15:40:27.773213Z",
     "shell.execute_reply.started": "2024-05-30T15:39:53.325292Z"
    }
   },
   "outputs": [
    {
     "name": "stderr",
     "output_type": "stream",
     "text": [
      "Test loop: 100%|██████████| 36/36 [00:31<00:00,  1.15it/s, loss=218.7560]\n"
     ]
    },
    {
     "name": "stdout",
     "output_type": "stream",
     "text": [
      "Test Loss: 14.8976, Test mIoU: 0.7877\n"
     ]
    }
   ],
   "source": [
    "model.eval()\n",
    "test_running_loss = 0\n",
    "test_loader = tqdm(dataloaders[CURR_TASK][\"test\"], desc=\"Test loop\")\n",
    "with torch.no_grad():\n",
    "    for batch in test_loader:\n",
    "        # Move everything to the device\n",
    "        batch[\"pixel_values\"] = batch[\"pixel_values\"].to(device)\n",
    "        batch[\"pixel_mask\"] = batch[\"pixel_mask\"].to(device)\n",
    "        batch[\"mask_labels\"] = [entry.to(device) for entry in batch[\"mask_labels\"]]\n",
    "        batch[\"class_labels\"] = [entry.to(device) for entry in batch[\"class_labels\"]]\n",
    "        # Compute output and loss\n",
    "        outputs = model(**batch)\n",
    "\n",
    "        loss = outputs.loss\n",
    "        # Record losses\n",
    "        current_loss = loss.item() * batch[\"pixel_values\"].size(0)\n",
    "        test_running_loss += current_loss\n",
    "        test_loader.set_postfix(loss=f\"{current_loss:.4f}\")\n",
    "\n",
    "        # Extract and compute metrics\n",
    "        pred_maps, masks = m2f_extract_pred_maps_and_masks(\n",
    "            batch, outputs, m2f_preprocessor_A\n",
    "        )\n",
    "        metric.add_batch(references=masks, predictions=pred_maps)\n",
    "        \n",
    "# After compute the batches that were added are deleted\n",
    "test_metrics_A = metric.compute(\n",
    "    num_labels=NUM_CLASSES, ignore_index=BG_VALUE_255, reduce_labels=False\n",
    ")\n",
    "mean_test_iou = test_metrics_A[\"mean_iou\"]\n",
    "\n",
    "final_test_loss = test_running_loss / len(dataloaders[CURR_TASK][\"test\"].dataset)\n",
    "#wandb.log({\n",
    "#    f\"Loss/test_{CURR_TASK}\": final_test_loss,\n",
    "#    f\"mIoU/test_{CURR_TASK}\": mean_test_iou\n",
    "#})\n",
    "print(f\"Test Loss: {final_test_loss:.4f}, Test mIoU: {mean_test_iou:.4f}\")\n",
    "#wandb.finish()"
   ]
  },
  {
   "cell_type": "code",
   "execution_count": 13,
   "metadata": {
    "execution": {
     "iopub.execute_input": "2024-05-30T15:40:27.774891Z",
     "iopub.status.busy": "2024-05-30T15:40:27.774712Z",
     "iopub.status.idle": "2024-05-30T15:40:27.823728Z",
     "shell.execute_reply": "2024-05-30T15:40:27.823051Z",
     "shell.execute_reply.started": "2024-05-30T15:40:27.774873Z"
    }
   },
   "outputs": [
    {
     "data": {
      "text/plain": [
       "{'mean_iou': 0.7877320741744921,\n",
       " 'mean_accuracy': 0.8500004734317124,\n",
       " 'overall_accuracy': 0.9620660501296412,\n",
       " 'per_category_iou': array([0.95360882, 0.91871854, 0.687211  , 0.63869946, 0.28185184,\n",
       "        0.81372453, 0.79456505, 0.78816018, 0.91600346, 0.94137199,\n",
       "        0.93113795]),\n",
       " 'per_category_accuracy': array([0.98604046, 0.98150333, 0.79010483, 0.72754962, 0.2902951 ,\n",
       "        0.9256408 , 0.87657205, 0.89267951, 0.94431993, 0.97042209,\n",
       "        0.96487748])}"
      ]
     },
     "execution_count": 13,
     "metadata": {},
     "output_type": "execute_result"
    }
   ],
   "source": [
    "test_metrics_A"
   ]
  },
  {
   "cell_type": "markdown",
   "metadata": {},
   "source": [
    "# Sample images from the training dataset of A with max loss"
   ]
  },
  {
   "cell_type": "code",
   "execution_count": 14,
   "metadata": {
    "execution": {
     "iopub.execute_input": "2024-05-30T15:40:27.824691Z",
     "iopub.status.busy": "2024-05-30T15:40:27.824508Z",
     "iopub.status.idle": "2024-05-30T15:52:15.226208Z",
     "shell.execute_reply": "2024-05-30T15:52:15.225600Z",
     "shell.execute_reply.started": "2024-05-30T15:40:27.824677Z"
    }
   },
   "outputs": [
    {
     "name": "stderr",
     "output_type": "stream",
     "text": [
      "100%|██████████| 3550/3550 [10:11<00:00,  5.80it/s]\n"
     ]
    },
    {
     "name": "stdout",
     "output_type": "stream",
     "text": [
      "pixel mean of B [0.32712337 0.29087587 0.21119382] pixel std: [0.30112183 0.25227443 0.21882615]\n",
      "{'A': {'train': <torch.utils.data.dataloader.DataLoader object at 0x7f546b397a10>, 'val': <torch.utils.data.dataloader.DataLoader object at 0x7f546b3e75c0>, 'test': <torch.utils.data.dataloader.DataLoader object at 0x7f546b3c6c60>}, 'B': {'train': <torch.utils.data.dataloader.DataLoader object at 0x7f546b3c67e0>, 'val': <torch.utils.data.dataloader.DataLoader object at 0x7f546b3f7ce0>, 'test': <torch.utils.data.dataloader.DataLoader object at 0x7f546b3f7b60>}}\n"
     ]
    }
   ],
   "source": [
    "losses = []\n",
    "\n",
    "# Collect losses\n",
    "model.eval()\n",
    "with torch.no_grad():\n",
    "    for sample in tqdm(m2f_datasets[\"A\"][\"train\"]):\n",
    "        sample[\"pixel_values\"] = sample[\"pixel_values\"].to(device)\n",
    "        sample[\"pixel_mask\"] = sample[\"pixel_mask\"].to(device)\n",
    "        sample[\"mask_labels\"] = [entry.to(device) for entry in sample[\"mask_labels\"]]\n",
    "        sample[\"class_labels\"] = [entry.to(device) for entry in sample[\"class_labels\"]]\n",
    "        losses.append(model(**sample).loss.item())\n",
    "\n",
    "losses_np = np.array(losses)\n",
    "\n",
    "# Sample images with max loss\n",
    "closest_indices = np.argsort(losses_np)[-N:] # N was calculated above\n",
    "\n",
    "# Create a subset of B using the mean loss sampled indices\n",
    "subset_A = torch.utils.data.Subset(datasets[\"A\"][0], closest_indices)\n",
    "new_train = torch.utils.data.ConcatDataset([subset_A, datasets[\"B\"][0]])\n",
    "\n",
    "# Calculate new mean and std\n",
    "pixel_mean_B,pixel_std_B=pixel_mean_std(new_train)\n",
    "print(\"pixel mean of B\",pixel_mean_B,\"pixel std:\",pixel_std_B)\n",
    "\n",
    "datasets[\"B\"] = (new_train, datasets[\"B\"][1], datasets[\"B\"][2])\n",
    "\n",
    "m2f_preprocessor_B = Mask2FormerImageProcessor(\n",
    "    reduce_labels=True,\n",
    "    ignore_index=255,\n",
    "    do_resize=False,\n",
    "    do_rescale=True,\n",
    "    do_normalize=True,\n",
    "    image_std=pixel_std_B,\n",
    "    image_mean=pixel_mean_B,\n",
    ")\n",
    "\n",
    "# Create Mask2Former Datasets\n",
    "\n",
    "m2f_datasets = {\n",
    "    \"A\": {\n",
    "        \"train\": Mask2FormerDataset(datasets[\"A\"][0], m2f_preprocessor_A),\n",
    "        \"val\": Mask2FormerDataset(datasets[\"A\"][1], m2f_preprocessor_A),\n",
    "        \"test\": Mask2FormerDataset(datasets[\"A\"][2], m2f_preprocessor_A),\n",
    "    },\n",
    "    \"B\": {\n",
    "        \"train\": Mask2FormerDataset(datasets[\"B\"][0], m2f_preprocessor_B),\n",
    "        \"val\": Mask2FormerDataset(datasets[\"B\"][1], m2f_preprocessor_B),\n",
    "        \"test\": Mask2FormerDataset(datasets[\"B\"][2], m2f_preprocessor_B),\n",
    "    },\n",
    "}\n",
    "\n",
    "# DataLoader parameters\n",
    "N_WORKERS = 4\n",
    "BATCH_SIZE = 16\n",
    "SHUFFLE = True\n",
    "DROP_LAST = True\n",
    "\n",
    "dataloader_params = {\n",
    "    \"batch_size\": BATCH_SIZE,\n",
    "    \"shuffle\": SHUFFLE,\n",
    "    \"num_workers\": N_WORKERS,\n",
    "    \"drop_last\": DROP_LAST,\n",
    "    \"pin_memory\": True,\n",
    "    \"collate_fn\": m2f_dataset_collate,\n",
    "}\n",
    "\n",
    "# Create DataLoaders\n",
    "dataloaders = {\n",
    "    key: create_dataloaders(m2f_datasets[key], **dataloader_params)\n",
    "    for key in m2f_datasets\n",
    "}\n",
    "\n",
    "print(dataloaders)"
   ]
  },
  {
   "cell_type": "markdown",
   "metadata": {},
   "source": [
    "# Now train on B and forget A"
   ]
  },
  {
   "cell_type": "code",
   "execution_count": 15,
   "metadata": {
    "execution": {
     "iopub.execute_input": "2024-05-30T15:52:20.862106Z",
     "iopub.status.busy": "2024-05-30T15:52:20.861536Z",
     "iopub.status.idle": "2024-05-30T15:52:20.916996Z",
     "shell.execute_reply": "2024-05-30T15:52:20.916462Z",
     "shell.execute_reply.started": "2024-05-30T15:52:20.862084Z"
    }
   },
   "outputs": [],
   "source": [
    "# Training\n",
    "NUM_EPOCHS = 200\n",
    "LEARNING_RATE = 1e-4\n",
    "LR_MULTIPLIER = 0.1\n",
    "BACKBONE_LR = LEARNING_RATE * LR_MULTIPLIER\n",
    "WEIGHT_DECAY = 0.05\n",
    "PATIENCE=15\n",
    "encoder_params = [\n",
    "    param\n",
    "    for name, param in model.named_parameters()\n",
    "    if name.startswith(\"model.pixel_level_module.encoder\")\n",
    "]\n",
    "decoder_params = [\n",
    "    param\n",
    "    for name, param in model.named_parameters()\n",
    "    if name.startswith(\"model.pixel_level_module.decoder\")\n",
    "]\n",
    "transformer_params = [\n",
    "    param\n",
    "    for name, param in model.named_parameters()\n",
    "    if name.startswith(\"model.transformer_module\")\n",
    "]\n",
    "optimizer = optim.AdamW(\n",
    "    [\n",
    "        {\"params\": encoder_params, \"lr\": BACKBONE_LR},\n",
    "        {\"params\": decoder_params},\n",
    "        {\"params\": transformer_params},\n",
    "    ],\n",
    "    lr=LEARNING_RATE,\n",
    "    weight_decay=WEIGHT_DECAY,\n",
    ")\n",
    "\n",
    "scheduler = optim.lr_scheduler.PolynomialLR(\n",
    "    optimizer, total_iters=NUM_EPOCHS, power=0.9\n",
    ")"
   ]
  },
  {
   "cell_type": "code",
   "execution_count": 16,
   "metadata": {
    "execution": {
     "iopub.execute_input": "2024-05-30T15:52:22.977229Z",
     "iopub.status.busy": "2024-05-30T15:52:22.976749Z",
     "iopub.status.idle": "2024-05-30T15:52:23.021393Z",
     "shell.execute_reply": "2024-05-30T15:52:23.020891Z",
     "shell.execute_reply.started": "2024-05-30T15:52:22.977210Z"
    }
   },
   "outputs": [
    {
     "data": {
      "text/plain": [
       "True"
      ]
     },
     "execution_count": 16,
     "metadata": {},
     "output_type": "execute_result"
    }
   ],
   "source": [
    "# WandB for team usage !!!!\n",
    "\n",
    "wandb.login() # use this one if a different person is going to run the notebook\n",
    "#wandb.login(relogin=False) # if the same person in the last run is going to run the notebook again\n"
   ]
  },
  {
   "cell_type": "code",
   "execution_count": 17,
   "metadata": {
    "execution": {
     "iopub.execute_input": "2024-05-30T15:52:24.571439Z",
     "iopub.status.busy": "2024-05-30T15:52:24.570917Z",
     "iopub.status.idle": "2024-05-30T15:52:25.149029Z",
     "shell.execute_reply": "2024-05-30T15:52:25.148438Z",
     "shell.execute_reply.started": "2024-05-30T15:52:24.571420Z"
    }
   },
   "outputs": [
    {
     "data": {
      "text/html": [
       "Tracking run with wandb version 0.17.0"
      ],
      "text/plain": [
       "<IPython.core.display.HTML object>"
      ]
     },
     "metadata": {},
     "output_type": "display_data"
    },
    {
     "data": {
      "text/html": [
       "Run data is saved locally in <code>/notebooks/continual-learning/wandb/run-20240530_155224-lnis54dr</code>"
      ],
      "text/plain": [
       "<IPython.core.display.HTML object>"
      ]
     },
     "metadata": {},
     "output_type": "display_data"
    },
    {
     "data": {
      "text/html": [
       "Syncing run <strong><a href='https://wandb.ai/continual-learning-tum/M2F_original/runs/lnis54dr' target=\"_blank\">M2F-Swin-Tiny-Max-Loss-32MBReplay</a></strong> to <a href='https://wandb.ai/continual-learning-tum/M2F_original' target=\"_blank\">Weights & Biases</a> (<a href='https://wandb.me/run' target=\"_blank\">docs</a>)<br/>"
      ],
      "text/plain": [
       "<IPython.core.display.HTML object>"
      ]
     },
     "metadata": {},
     "output_type": "display_data"
    },
    {
     "data": {
      "text/html": [
       " View project at <a href='https://wandb.ai/continual-learning-tum/M2F_original' target=\"_blank\">https://wandb.ai/continual-learning-tum/M2F_original</a>"
      ],
      "text/plain": [
       "<IPython.core.display.HTML object>"
      ]
     },
     "metadata": {},
     "output_type": "display_data"
    },
    {
     "data": {
      "text/html": [
       " View run at <a href='https://wandb.ai/continual-learning-tum/M2F_original/runs/lnis54dr' target=\"_blank\">https://wandb.ai/continual-learning-tum/M2F_original/runs/lnis54dr</a>"
      ],
      "text/plain": [
       "<IPython.core.display.HTML object>"
      ]
     },
     "metadata": {},
     "output_type": "display_data"
    },
    {
     "name": "stdout",
     "output_type": "stream",
     "text": [
      "Store best model weights in:  outputs/models/m2f_swin_backbone_replay_max_loss_32MBs/best_model/\n",
      "Store final model weights in:  outputs/models/m2f_swin_backbone_replay_max_loss_32MBs/final_model/\n"
     ]
    }
   ],
   "source": [
    "wandb.init(\n",
    "    project=\"M2F_original\",\n",
    "    config={\n",
    "        \"learning_rate\": LEARNING_RATE,\n",
    "        \"learning_rate_multiplier\": LR_MULTIPLIER,\n",
    "        \"backbone_learning_rate\": BACKBONE_LR,\n",
    "        \"learning_rate_scheduler\": scheduler.__class__.__name__,\n",
    "        \"optimizer\": optimizer.__class__.__name__,\n",
    "        \"backbone\": SWIN_BACKBONE,\n",
    "        \"m2f_preprocessor\": m2f_preprocessor_B.__dict__,\n",
    "        \"m2f_model_config\": model.config\n",
    "    },\n",
    "    name=\"M2F-Swin-Tiny-Max-Loss-32MBReplay\",\n",
    "    notes=\"M2F with tiny Swin backbone pretrained on ImageNet-1K. \\\n",
    "        Scenario: Pretrained on A, Train on B, Test 32MB max loss replay on A\"\n",
    ")\n",
    "\n",
    "# Tensorboard logging\n",
    "writer = SummaryWriter(log_dir=out_dir + \"runs\")\n",
    "\n",
    "# Model checkpointing\n",
    "model_name = \"m2f_swin_backbone_replay_max_loss_32MBs\"\n",
    "model_dir = out_dir + \"models/\"\n",
    "if not os.path.exists(model_dir):\n",
    "    print(\"Store weights in: \", model_dir)\n",
    "    os.makedirs(model_dir)\n",
    "\n",
    "best_model_dir = model_dir + f\"{model_name}/best_model/\"\n",
    "if not os.path.exists(best_model_dir):\n",
    "    print(\"Store best model weights in: \", best_model_dir)\n",
    "    os.makedirs(best_model_dir)\n",
    "final_model_dir = model_dir + f\"{model_name}/final_model/\"\n",
    "if not os.path.exists(final_model_dir):\n",
    "    print(\"Store final model weights in: \", final_model_dir)\n",
    "    os.makedirs(final_model_dir)"
   ]
  },
  {
   "cell_type": "code",
   "execution_count": 18,
   "metadata": {
    "execution": {
     "iopub.execute_input": "2024-05-30T15:52:29.462377Z",
     "iopub.status.busy": "2024-05-30T15:52:29.461652Z",
     "iopub.status.idle": "2024-05-30T15:52:29.506442Z",
     "shell.execute_reply": "2024-05-30T15:52:29.505882Z",
     "shell.execute_reply.started": "2024-05-30T15:52:29.462356Z"
    }
   },
   "outputs": [
    {
     "data": {
      "text/plain": [
       "['outputs/models/m2f_swin_backbone_replay_max_loss_32MBs/preprocessor_config.json']"
      ]
     },
     "execution_count": 18,
     "metadata": {},
     "output_type": "execute_result"
    }
   ],
   "source": [
    "# Save the preprocessor\n",
    "m2f_preprocessor_B.save_pretrained(model_dir + model_name)"
   ]
  },
  {
   "cell_type": "code",
   "execution_count": 19,
   "metadata": {
    "execution": {
     "iopub.execute_input": "2024-05-30T15:52:32.554650Z",
     "iopub.status.busy": "2024-05-30T15:52:32.554400Z",
     "iopub.status.idle": "2024-05-30T17:37:49.351335Z",
     "shell.execute_reply": "2024-05-30T17:37:49.347673Z",
     "shell.execute_reply.started": "2024-05-30T15:52:32.554633Z"
    }
   },
   "outputs": [
    {
     "name": "stderr",
     "output_type": "stream",
     "text": [
      "Epoch 1/200 Training: 100%|██████████| 118/118 [02:49<00:00,  1.44s/it, loss=323.3484]\n",
      "Epoch 1/200 Validation: 100%|██████████| 14/14 [00:23<00:00,  1.67s/it, loss=242.3506]\n"
     ]
    },
    {
     "name": "stdout",
     "output_type": "stream",
     "text": [
      "Epoch 1/200, Train Loss: 22.3490, Train mIoU: 0.5186, Validation Loss: 17.1329, Validation mIoU: 0.5998\n"
     ]
    },
    {
     "name": "stderr",
     "output_type": "stream",
     "text": [
      "Epoch 2/200 Training: 100%|██████████| 118/118 [03:03<00:00,  1.56s/it, loss=213.6685]\n",
      "Epoch 2/200 Validation: 100%|██████████| 14/14 [00:10<00:00,  1.30it/s, loss=252.0575]\n"
     ]
    },
    {
     "name": "stdout",
     "output_type": "stream",
     "text": [
      "Epoch 2/200, Train Loss: 16.8354, Train mIoU: 0.6506, Validation Loss: 13.8539, Validation mIoU: 0.7329\n"
     ]
    },
    {
     "name": "stderr",
     "output_type": "stream",
     "text": [
      "Epoch 3/200 Training: 100%|██████████| 118/118 [02:34<00:00,  1.31s/it, loss=210.6209]\n",
      "Epoch 3/200 Validation: 100%|██████████| 14/14 [00:12<00:00,  1.09it/s, loss=201.2150]\n"
     ]
    },
    {
     "name": "stdout",
     "output_type": "stream",
     "text": [
      "Epoch 3/200, Train Loss: 13.2635, Train mIoU: 0.7419, Validation Loss: 10.8973, Validation mIoU: 0.7129\n"
     ]
    },
    {
     "name": "stderr",
     "output_type": "stream",
     "text": [
      "Epoch 4/200 Training: 100%|██████████| 118/118 [02:59<00:00,  1.52s/it, loss=180.0348]\n",
      "Epoch 4/200 Validation: 100%|██████████| 14/14 [00:12<00:00,  1.12it/s, loss=154.2014]\n"
     ]
    },
    {
     "name": "stdout",
     "output_type": "stream",
     "text": [
      "Epoch 4/200, Train Loss: 11.0680, Train mIoU: 0.8059, Validation Loss: 9.8355, Validation mIoU: 0.7635\n"
     ]
    },
    {
     "name": "stderr",
     "output_type": "stream",
     "text": [
      "Epoch 5/200 Training: 100%|██████████| 118/118 [02:28<00:00,  1.26s/it, loss=156.2476]\n",
      "Epoch 5/200 Validation: 100%|██████████| 14/14 [00:10<00:00,  1.32it/s, loss=180.2553]\n"
     ]
    },
    {
     "name": "stdout",
     "output_type": "stream",
     "text": [
      "Epoch 5/200, Train Loss: 10.4177, Train mIoU: 0.8128, Validation Loss: 10.4831, Validation mIoU: 0.7919\n"
     ]
    },
    {
     "name": "stderr",
     "output_type": "stream",
     "text": [
      "Epoch 6/200 Training: 100%|██████████| 118/118 [03:06<00:00,  1.58s/it, loss=139.0027]\n",
      "Epoch 6/200 Validation: 100%|██████████| 14/14 [00:10<00:00,  1.30it/s, loss=203.2075]\n"
     ]
    },
    {
     "name": "stdout",
     "output_type": "stream",
     "text": [
      "Epoch 6/200, Train Loss: 9.6969, Train mIoU: 0.8589, Validation Loss: 9.0283, Validation mIoU: 0.7833\n"
     ]
    },
    {
     "name": "stderr",
     "output_type": "stream",
     "text": [
      "Epoch 7/200 Training: 100%|██████████| 118/118 [02:32<00:00,  1.29s/it, loss=151.6768]\n",
      "Epoch 7/200 Validation: 100%|██████████| 14/14 [00:12<00:00,  1.13it/s, loss=120.2030]\n"
     ]
    },
    {
     "name": "stdout",
     "output_type": "stream",
     "text": [
      "Epoch 7/200, Train Loss: 9.1153, Train mIoU: 0.8602, Validation Loss: 8.8996, Validation mIoU: 0.7753\n"
     ]
    },
    {
     "name": "stderr",
     "output_type": "stream",
     "text": [
      "Epoch 8/200 Training: 100%|██████████| 118/118 [02:26<00:00,  1.24s/it, loss=130.8290]\n",
      "Epoch 8/200 Validation: 100%|██████████| 14/14 [00:12<00:00,  1.14it/s, loss=132.0407]\n"
     ]
    },
    {
     "name": "stdout",
     "output_type": "stream",
     "text": [
      "Epoch 8/200, Train Loss: 8.3360, Train mIoU: 0.8971, Validation Loss: 9.1568, Validation mIoU: 0.7768\n"
     ]
    },
    {
     "name": "stderr",
     "output_type": "stream",
     "text": [
      "Epoch 9/200 Training: 100%|██████████| 118/118 [03:09<00:00,  1.61s/it, loss=124.7300]\n",
      "Epoch 9/200 Validation: 100%|██████████| 14/14 [00:12<00:00,  1.13it/s, loss=176.2644]\n"
     ]
    },
    {
     "name": "stdout",
     "output_type": "stream",
     "text": [
      "Epoch 9/200, Train Loss: 7.9949, Train mIoU: 0.9046, Validation Loss: 8.1433, Validation mIoU: 0.8324\n"
     ]
    },
    {
     "name": "stderr",
     "output_type": "stream",
     "text": [
      "Epoch 10/200 Training: 100%|██████████| 118/118 [02:42<00:00,  1.38s/it, loss=105.8107]\n",
      "Epoch 10/200 Validation: 100%|██████████| 14/14 [00:13<00:00,  1.05it/s, loss=107.8936]\n"
     ]
    },
    {
     "name": "stdout",
     "output_type": "stream",
     "text": [
      "Epoch 10/200, Train Loss: 7.5219, Train mIoU: 0.9004, Validation Loss: 8.3072, Validation mIoU: 0.7658\n"
     ]
    },
    {
     "name": "stderr",
     "output_type": "stream",
     "text": [
      "Epoch 11/200 Training: 100%|██████████| 118/118 [02:27<00:00,  1.25s/it, loss=104.3380]\n",
      "Epoch 11/200 Validation: 100%|██████████| 14/14 [00:21<00:00,  1.57s/it, loss=111.6945]\n"
     ]
    },
    {
     "name": "stdout",
     "output_type": "stream",
     "text": [
      "Epoch 11/200, Train Loss: 7.3008, Train mIoU: 0.8897, Validation Loss: 8.1821, Validation mIoU: 0.8124\n"
     ]
    },
    {
     "name": "stderr",
     "output_type": "stream",
     "text": [
      "Epoch 12/200 Training: 100%|██████████| 118/118 [02:22<00:00,  1.21s/it, loss=100.1026]\n",
      "Epoch 12/200 Validation: 100%|██████████| 14/14 [00:14<00:00,  1.07s/it, loss=106.3854]\n"
     ]
    },
    {
     "name": "stdout",
     "output_type": "stream",
     "text": [
      "Epoch 12/200, Train Loss: 7.4358, Train mIoU: 0.9234, Validation Loss: 7.9073, Validation mIoU: 0.7561\n"
     ]
    },
    {
     "name": "stderr",
     "output_type": "stream",
     "text": [
      "Epoch 13/200 Training: 100%|██████████| 118/118 [02:24<00:00,  1.22s/it, loss=125.2439]\n",
      "Epoch 13/200 Validation: 100%|██████████| 14/14 [00:14<00:00,  1.02s/it, loss=111.6215]\n"
     ]
    },
    {
     "name": "stdout",
     "output_type": "stream",
     "text": [
      "Epoch 13/200, Train Loss: 6.8301, Train mIoU: 0.9243, Validation Loss: 7.9004, Validation mIoU: 0.7981\n"
     ]
    },
    {
     "name": "stderr",
     "output_type": "stream",
     "text": [
      "Epoch 14/200 Training: 100%|██████████| 118/118 [02:29<00:00,  1.27s/it, loss=106.8927]\n",
      "Epoch 14/200 Validation: 100%|██████████| 14/14 [00:13<00:00,  1.02it/s, loss=98.4945] \n"
     ]
    },
    {
     "name": "stdout",
     "output_type": "stream",
     "text": [
      "Epoch 14/200, Train Loss: 6.6442, Train mIoU: 0.9274, Validation Loss: 7.9772, Validation mIoU: 0.8954\n"
     ]
    },
    {
     "name": "stderr",
     "output_type": "stream",
     "text": [
      "Epoch 15/200 Training: 100%|██████████| 118/118 [02:36<00:00,  1.33s/it, loss=105.9120]\n",
      "Epoch 15/200 Validation: 100%|██████████| 14/14 [00:13<00:00,  1.04it/s, loss=107.7376]\n"
     ]
    },
    {
     "name": "stdout",
     "output_type": "stream",
     "text": [
      "Epoch 15/200, Train Loss: 6.5497, Train mIoU: 0.9413, Validation Loss: 7.7496, Validation mIoU: 0.8149\n"
     ]
    },
    {
     "name": "stderr",
     "output_type": "stream",
     "text": [
      "Epoch 16/200 Training: 100%|██████████| 118/118 [02:29<00:00,  1.27s/it, loss=97.7808] \n",
      "Epoch 16/200 Validation: 100%|██████████| 14/14 [00:13<00:00,  1.01it/s, loss=166.9202]\n"
     ]
    },
    {
     "name": "stdout",
     "output_type": "stream",
     "text": [
      "Epoch 16/200, Train Loss: 6.3080, Train mIoU: 0.9491, Validation Loss: 7.5995, Validation mIoU: 0.8751\n"
     ]
    },
    {
     "name": "stderr",
     "output_type": "stream",
     "text": [
      "Epoch 17/200 Training: 100%|██████████| 118/118 [02:53<00:00,  1.47s/it, loss=95.3673] \n",
      "Epoch 17/200 Validation: 100%|██████████| 14/14 [00:11<00:00,  1.20it/s, loss=98.7694] \n"
     ]
    },
    {
     "name": "stdout",
     "output_type": "stream",
     "text": [
      "Epoch 17/200, Train Loss: 6.1701, Train mIoU: 0.9505, Validation Loss: 7.7295, Validation mIoU: 0.8299\n"
     ]
    },
    {
     "name": "stderr",
     "output_type": "stream",
     "text": [
      "Epoch 18/200 Training: 100%|██████████| 118/118 [02:35<00:00,  1.32s/it, loss=90.8235] \n",
      "Epoch 18/200 Validation: 100%|██████████| 14/14 [00:10<00:00,  1.36it/s, loss=103.9548]\n"
     ]
    },
    {
     "name": "stdout",
     "output_type": "stream",
     "text": [
      "Epoch 18/200, Train Loss: 6.1571, Train mIoU: 0.9290, Validation Loss: 7.9546, Validation mIoU: 0.8501\n"
     ]
    },
    {
     "name": "stderr",
     "output_type": "stream",
     "text": [
      "Epoch 19/200 Training: 100%|██████████| 118/118 [02:28<00:00,  1.26s/it, loss=88.9108] \n",
      "Epoch 19/200 Validation: 100%|██████████| 14/14 [00:11<00:00,  1.21it/s, loss=168.0760]\n"
     ]
    },
    {
     "name": "stdout",
     "output_type": "stream",
     "text": [
      "Epoch 19/200, Train Loss: 5.9546, Train mIoU: 0.9532, Validation Loss: 7.5331, Validation mIoU: 0.8169\n"
     ]
    },
    {
     "name": "stderr",
     "output_type": "stream",
     "text": [
      "Epoch 20/200 Training: 100%|██████████| 118/118 [02:33<00:00,  1.30s/it, loss=89.1680] \n",
      "Epoch 20/200 Validation: 100%|██████████| 14/14 [00:11<00:00,  1.21it/s, loss=132.7462]\n"
     ]
    },
    {
     "name": "stdout",
     "output_type": "stream",
     "text": [
      "Epoch 20/200, Train Loss: 5.7608, Train mIoU: 0.9156, Validation Loss: 7.7315, Validation mIoU: 0.8088\n"
     ]
    },
    {
     "name": "stderr",
     "output_type": "stream",
     "text": [
      "Epoch 21/200 Training: 100%|██████████| 118/118 [02:33<00:00,  1.30s/it, loss=94.1937] \n",
      "Epoch 21/200 Validation: 100%|██████████| 14/14 [00:13<00:00,  1.04it/s, loss=127.9835]\n"
     ]
    },
    {
     "name": "stdout",
     "output_type": "stream",
     "text": [
      "Epoch 21/200, Train Loss: 5.6025, Train mIoU: 0.9538, Validation Loss: 7.6789, Validation mIoU: 0.9120\n"
     ]
    },
    {
     "name": "stderr",
     "output_type": "stream",
     "text": [
      "Epoch 22/200 Training: 100%|██████████| 118/118 [02:31<00:00,  1.29s/it, loss=80.1660] \n",
      "Epoch 22/200 Validation: 100%|██████████| 14/14 [00:13<00:00,  1.06it/s, loss=125.0520]\n"
     ]
    },
    {
     "name": "stdout",
     "output_type": "stream",
     "text": [
      "Epoch 22/200, Train Loss: 5.8821, Train mIoU: 0.9506, Validation Loss: 7.5573, Validation mIoU: 0.8288\n"
     ]
    },
    {
     "name": "stderr",
     "output_type": "stream",
     "text": [
      "Epoch 23/200 Training: 100%|██████████| 118/118 [02:31<00:00,  1.28s/it, loss=101.1543]\n",
      "Epoch 23/200 Validation: 100%|██████████| 14/14 [00:11<00:00,  1.25it/s, loss=115.0213]\n"
     ]
    },
    {
     "name": "stdout",
     "output_type": "stream",
     "text": [
      "Epoch 23/200, Train Loss: 5.8357, Train mIoU: 0.9337, Validation Loss: 8.2358, Validation mIoU: 0.8764\n"
     ]
    },
    {
     "name": "stderr",
     "output_type": "stream",
     "text": [
      "Epoch 24/200 Training: 100%|██████████| 118/118 [02:23<00:00,  1.22s/it, loss=93.8433] \n",
      "Epoch 24/200 Validation: 100%|██████████| 14/14 [00:14<00:00,  1.00s/it, loss=107.6767]\n"
     ]
    },
    {
     "name": "stdout",
     "output_type": "stream",
     "text": [
      "Epoch 24/200, Train Loss: 5.6023, Train mIoU: 0.9436, Validation Loss: 7.6835, Validation mIoU: 0.8210\n"
     ]
    },
    {
     "name": "stderr",
     "output_type": "stream",
     "text": [
      "Epoch 25/200 Training: 100%|██████████| 118/118 [02:25<00:00,  1.23s/it, loss=88.2525] \n",
      "Epoch 25/200 Validation: 100%|██████████| 14/14 [00:15<00:00,  1.09s/it, loss=118.2592]\n"
     ]
    },
    {
     "name": "stdout",
     "output_type": "stream",
     "text": [
      "Epoch 25/200, Train Loss: 5.4820, Train mIoU: 0.9509, Validation Loss: 7.7134, Validation mIoU: 0.8574\n"
     ]
    },
    {
     "name": "stderr",
     "output_type": "stream",
     "text": [
      "Epoch 26/200 Training: 100%|██████████| 118/118 [02:25<00:00,  1.23s/it, loss=86.0836] \n",
      "Epoch 26/200 Validation: 100%|██████████| 14/14 [00:15<00:00,  1.12s/it, loss=167.3118]\n"
     ]
    },
    {
     "name": "stdout",
     "output_type": "stream",
     "text": [
      "Epoch 26/200, Train Loss: 5.4454, Train mIoU: 0.9648, Validation Loss: 7.7783, Validation mIoU: 0.8397\n"
     ]
    },
    {
     "name": "stderr",
     "output_type": "stream",
     "text": [
      "Epoch 27/200 Training: 100%|██████████| 118/118 [02:31<00:00,  1.28s/it, loss=99.2491] \n",
      "Epoch 27/200 Validation: 100%|██████████| 14/14 [00:15<00:00,  1.14s/it, loss=165.0406]\n"
     ]
    },
    {
     "name": "stdout",
     "output_type": "stream",
     "text": [
      "Epoch 27/200, Train Loss: 5.2592, Train mIoU: 0.9624, Validation Loss: 7.8690, Validation mIoU: 0.8226\n"
     ]
    },
    {
     "name": "stderr",
     "output_type": "stream",
     "text": [
      "Epoch 31/200 Validation: 100%|██████████| 14/14 [00:12<00:00,  1.16it/s, loss=149.5909]\n"
     ]
    },
    {
     "name": "stdout",
     "output_type": "stream",
     "text": [
      "Epoch 31/200, Train Loss: 4.9299, Train mIoU: 0.9551, Validation Loss: 7.7778, Validation mIoU: 0.8104\n"
     ]
    },
    {
     "name": "stderr",
     "output_type": "stream",
     "text": [
      "Epoch 32/200 Training: 100%|██████████| 118/118 [02:33<00:00,  1.30s/it, loss=79.9247]\n",
      "Epoch 32/200 Validation: 100%|██████████| 14/14 [00:10<00:00,  1.29it/s, loss=98.1811] \n"
     ]
    },
    {
     "name": "stdout",
     "output_type": "stream",
     "text": [
      "Epoch 32/200, Train Loss: 4.8338, Train mIoU: 0.9668, Validation Loss: 7.7229, Validation mIoU: 0.8163\n"
     ]
    },
    {
     "name": "stderr",
     "output_type": "stream",
     "text": [
      "Epoch 33/200 Training: 100%|██████████| 118/118 [02:11<00:00,  1.11s/it, loss=68.5262]\n",
      "Epoch 33/200 Validation: 100%|██████████| 14/14 [00:11<00:00,  1.22it/s, loss=123.2453]\n"
     ]
    },
    {
     "name": "stdout",
     "output_type": "stream",
     "text": [
      "Epoch 33/200, Train Loss: 4.7558, Train mIoU: 0.9722, Validation Loss: 7.5337, Validation mIoU: 0.8149\n"
     ]
    },
    {
     "name": "stderr",
     "output_type": "stream",
     "text": [
      "Epoch 34/200 Training: 100%|██████████| 118/118 [02:18<00:00,  1.18s/it, loss=77.7048] \n",
      "Epoch 34/200 Validation: 100%|██████████| 14/14 [00:10<00:00,  1.35it/s, loss=102.4156]\n"
     ]
    },
    {
     "name": "stdout",
     "output_type": "stream",
     "text": [
      "Epoch 34/200, Train Loss: 4.7940, Train mIoU: 0.9592, Validation Loss: 7.9700, Validation mIoU: 0.8079\n"
     ]
    },
    {
     "name": "stderr",
     "output_type": "stream",
     "text": [
      "Epoch 35/200 Training: 100%|██████████| 118/118 [02:17<00:00,  1.17s/it, loss=84.6143] \n",
      "Epoch 35/200 Validation: 100%|██████████| 14/14 [00:11<00:00,  1.27it/s, loss=104.6482]\n"
     ]
    },
    {
     "name": "stdout",
     "output_type": "stream",
     "text": [
      "Epoch 35/200, Train Loss: 4.9532, Train mIoU: 0.9568, Validation Loss: 7.9266, Validation mIoU: 0.8783\n"
     ]
    },
    {
     "name": "stderr",
     "output_type": "stream",
     "text": [
      "Epoch 36/200 Training: 100%|██████████| 118/118 [02:20<00:00,  1.19s/it, loss=104.4526]\n",
      "Epoch 36/200 Validation: 100%|██████████| 14/14 [00:13<00:00,  1.04it/s, loss=192.2474]\n"
     ]
    },
    {
     "name": "stdout",
     "output_type": "stream",
     "text": [
      "Epoch 36/200, Train Loss: 4.7924, Train mIoU: 0.9652, Validation Loss: 8.0746, Validation mIoU: 0.8429\n",
      "Early stopping at epoch 35\n"
     ]
    }
   ],
   "source": [
    "# To avoid making stupid errors\n",
    "CURR_TASK = \"B\"\n",
    "\n",
    "# For storing the model\n",
    "best_val_metric = -np.inf\n",
    "\n",
    "# Move model to device\n",
    "model.to(device)\n",
    "counter=0\n",
    "for epoch in range(NUM_EPOCHS):\n",
    "    model.train()\n",
    "    train_running_loss = 0.0\n",
    "    val_running_loss = 0.0\n",
    "\n",
    "    # Set up tqdm for the training loop\n",
    "    train_loader = tqdm(\n",
    "        dataloaders[CURR_TASK][\"train\"], desc=f\"Epoch {epoch + 1}/{NUM_EPOCHS} Training\"\n",
    "    )\n",
    "\n",
    "    for batch in train_loader:\n",
    "        # Move everything to the device\n",
    "        batch[\"pixel_values\"] = batch[\"pixel_values\"].to(device)\n",
    "        batch[\"pixel_mask\"] = batch[\"pixel_mask\"].to(device)\n",
    "        batch[\"mask_labels\"] = [entry.to(device) for entry in batch[\"mask_labels\"]]\n",
    "        batch[\"class_labels\"] = [entry.to(device) for entry in batch[\"class_labels\"]]\n",
    "\n",
    "        # Compute output and loss\n",
    "        outputs = model(**batch)\n",
    "\n",
    "        loss = outputs.loss\n",
    "\n",
    "        # Compute gradient and perform step\n",
    "        optimizer.zero_grad()\n",
    "        loss.backward()\n",
    "        optimizer.step()\n",
    "\n",
    "        # Record losses\n",
    "        current_loss = loss.item() * batch[\"pixel_values\"].size(0)\n",
    "        train_running_loss += current_loss\n",
    "        train_loader.set_postfix(loss=f\"{current_loss:.4f}\")\n",
    "\n",
    "        # Extract and compute metrics\n",
    "        pred_maps, masks = m2f_extract_pred_maps_and_masks(\n",
    "            batch, outputs, m2f_preprocessor_B\n",
    "        )\n",
    "        metric.add_batch(references=masks, predictions=pred_maps)\n",
    "        \n",
    "\n",
    "    # After compute the batches that were added are deleted\n",
    "    mean_train_iou = metric.compute(\n",
    "        num_labels=NUM_CLASSES, ignore_index=BG_VALUE_255, reduce_labels=False\n",
    "    )[\"mean_iou\"]\n",
    "\n",
    "    # Validation phase\n",
    "    model.eval()\n",
    "    val_loader = tqdm(\n",
    "        dataloaders[CURR_TASK][\"val\"], desc=f\"Epoch {epoch + 1}/{NUM_EPOCHS} Validation\"\n",
    "    )\n",
    "    with torch.no_grad():\n",
    "        for batch in val_loader:\n",
    "            # Move everything to the device\n",
    "            batch[\"pixel_values\"] = batch[\"pixel_values\"].to(device)\n",
    "            batch[\"pixel_mask\"] = batch[\"pixel_mask\"].to(device)\n",
    "            batch[\"mask_labels\"] = [entry.to(device) for entry in batch[\"mask_labels\"]]\n",
    "            batch[\"class_labels\"] = [\n",
    "                entry.to(device) for entry in batch[\"class_labels\"]\n",
    "            ]\n",
    "            # Compute output and loss\n",
    "            outputs = model(**batch)\n",
    "\n",
    "            loss = outputs.loss\n",
    "            # Record losses\n",
    "            current_loss = loss.item() * batch[\"pixel_values\"].size(0)\n",
    "            val_running_loss += current_loss\n",
    "            val_loader.set_postfix(loss=f\"{current_loss:.4f}\")\n",
    "\n",
    "            # Extract and compute metrics\n",
    "            pred_maps, masks = m2f_extract_pred_maps_and_masks(\n",
    "                batch, outputs, m2f_preprocessor_B\n",
    "            )\n",
    "            metric.add_batch(references=masks, predictions=pred_maps)\n",
    "            \n",
    "\n",
    "    # After compute the batches that were added are deleted\n",
    "    mean_val_iou = metric.compute(\n",
    "        num_labels=NUM_CLASSES, ignore_index=BG_VALUE_255, reduce_labels=False\n",
    "    )[\"mean_iou\"]\n",
    "\n",
    "    epoch_train_loss = train_running_loss / len(dataloaders[CURR_TASK][\"train\"].dataset)\n",
    "    epoch_val_loss = val_running_loss / len(dataloaders[CURR_TASK][\"val\"].dataset)\n",
    "\n",
    "    writer.add_scalar(f\"Loss/train_{model_name}_{CURR_TASK}\", epoch_train_loss, epoch + 1)\n",
    "    writer.add_scalar(f\"Loss/val_{model_name}_{CURR_TASK}\", epoch_val_loss, epoch + 1)\n",
    "    writer.add_scalar(f\"mIoU/train_{model_name}_{CURR_TASK}\", mean_train_iou, epoch + 1)\n",
    "    writer.add_scalar(f\"mIoU/val_{model_name}_{CURR_TASK}\", mean_val_iou, epoch + 1)\n",
    "\n",
    "    wandb.log({\n",
    "        f\"Loss/train_replay_A_{CURR_TASK}\": epoch_train_loss,\n",
    "        f\"Loss/val_replay_A_{CURR_TASK}\": epoch_val_loss,\n",
    "        f\"mIoU/train_replay_A_{CURR_TASK}\": mean_train_iou,\n",
    "        f\"mIoU/val_replay_A_{CURR_TASK}\": mean_val_iou\n",
    "    })\n",
    "\n",
    "\n",
    "    tqdm.write(\n",
    "        f\"Epoch {epoch + 1}/{NUM_EPOCHS}, Train Loss: {epoch_train_loss:.4f}, Train mIoU: {mean_train_iou:.4f}, Validation Loss: {epoch_val_loss:.4f}, Validation mIoU: {mean_val_iou:.4f}\"\n",
    "    )\n",
    "    \n",
    "    if mean_val_iou > best_val_metric:\n",
    "        best_val_metric = mean_val_iou\n",
    "        model.save_pretrained(f\"{best_model_dir}{CURR_TASK}/\")\n",
    "        counter=0\n",
    "    else:\n",
    "        counter+=1\n",
    "        if counter == PATIENCE:\n",
    "            print(\"Early stopping at epoch\",epoch)\n",
    "            break"
   ]
  },
  {
   "cell_type": "markdown",
   "metadata": {},
   "source": [
    "## Test results on B first"
   ]
  },
  {
   "cell_type": "code",
   "execution_count": null,
   "metadata": {
    "execution": {
     "iopub.execute_input": "2024-05-30T17:37:49.353081Z",
     "iopub.status.busy": "2024-05-30T17:37:49.352791Z",
     "iopub.status.idle": "2024-05-30T17:37:53.104900Z"
    }
   },
   "outputs": [],
   "source": [
    "# Load best model and evaluate on test\n",
    "model = Mask2FormerForUniversalSegmentation.from_pretrained(f\"{best_model_dir}{CURR_TASK}/\").to(device)"
   ]
  },
  {
   "cell_type": "code",
   "execution_count": null,
   "metadata": {
    "execution": {
     "iopub.execute_input": "2024-05-30T17:37:53.118994Z",
     "iopub.status.busy": "2024-05-30T17:37:53.118516Z",
     "iopub.status.idle": "2024-05-30T17:38:06.130438Z"
    }
   },
   "outputs": [
    {
     "name": "stderr",
     "output_type": "stream",
     "text": [
      "Test loop: 100%|██████████| 14/14 [00:12<00:00,  1.14it/s, loss=98.7925] \n"
     ]
    },
    {
     "name": "stdout",
     "output_type": "stream",
     "text": [
      "Test Loss: 8.3312, Test mIoU: 0.8711\n"
     ]
    }
   ],
   "source": [
    "model.eval()\n",
    "test_running_loss = 0\n",
    "test_loader = tqdm(dataloaders[CURR_TASK][\"test\"], desc=\"Test loop\")\n",
    "with torch.no_grad():\n",
    "    for batch in test_loader:\n",
    "        # Move everything to the device\n",
    "        batch[\"pixel_values\"] = batch[\"pixel_values\"].to(device)\n",
    "        batch[\"pixel_mask\"] = batch[\"pixel_mask\"].to(device)\n",
    "        batch[\"mask_labels\"] = [entry.to(device) for entry in batch[\"mask_labels\"]]\n",
    "        batch[\"class_labels\"] = [entry.to(device) for entry in batch[\"class_labels\"]]\n",
    "        # Compute output and loss\n",
    "        outputs = model(**batch)\n",
    "\n",
    "        loss = outputs.loss\n",
    "        # Record losses\n",
    "        current_loss = loss.item() * batch[\"pixel_values\"].size(0)\n",
    "        test_running_loss += current_loss\n",
    "        test_loader.set_postfix(loss=f\"{current_loss:.4f}\")\n",
    "\n",
    "        # Extract and compute metrics\n",
    "        pred_maps, masks = m2f_extract_pred_maps_and_masks(\n",
    "            batch, outputs, m2f_preprocessor_B\n",
    "        )\n",
    "        metric.add_batch(references=masks, predictions=pred_maps)\n",
    "        \n",
    "    \n",
    "# After compute the batches that were added are deleted\n",
    "test_metrics_B = metric.compute(\n",
    "    num_labels=NUM_CLASSES, ignore_index=BG_VALUE_255, reduce_labels=False\n",
    ")\n",
    "mean_test_iou = test_metrics_B[\"mean_iou\"]\n",
    "final_test_loss = test_running_loss / len(dataloaders[CURR_TASK][\"test\"].dataset)\n",
    "wandb.log({\n",
    "    f\"Loss/test_{CURR_TASK}\": final_test_loss,\n",
    "    f\"mIoU/test_{CURR_TASK}\": mean_test_iou\n",
    "})\n",
    "print(f\"Test Loss: {final_test_loss:.4f}, Test mIoU: {mean_test_iou:.4f}\")"
   ]
  },
  {
   "cell_type": "markdown",
   "metadata": {},
   "source": [
    "## Test results on A after training on B"
   ]
  },
  {
   "cell_type": "code",
   "execution_count": null,
   "metadata": {
    "execution": {
     "iopub.execute_input": "2024-05-30T17:38:06.131851Z",
     "iopub.status.busy": "2024-05-30T17:38:06.131254Z",
     "iopub.status.idle": "2024-05-30T17:38:40.520619Z"
    }
   },
   "outputs": [
    {
     "name": "stderr",
     "output_type": "stream",
     "text": [
      "Test loop: 100%|██████████| 36/36 [00:31<00:00,  1.13it/s, loss=262.4240]\n"
     ]
    },
    {
     "name": "stdout",
     "output_type": "stream",
     "text": [
      "Test Loss: 17.5828, Test mIoU: 0.7207\n"
     ]
    }
   ],
   "source": [
    "# To avoid making stupid errors\n",
    "CURR_TASK = \"A\"\n",
    "\n",
    "model.eval()\n",
    "test_running_loss = 0\n",
    "test_loader = tqdm(dataloaders[CURR_TASK][\"test\"], desc=\"Test loop\")\n",
    "with torch.no_grad():\n",
    "    for batch in test_loader:\n",
    "        # Move everything to the device\n",
    "        batch[\"pixel_values\"] = batch[\"pixel_values\"].to(device)\n",
    "        batch[\"pixel_mask\"] = batch[\"pixel_mask\"].to(device)\n",
    "        batch[\"mask_labels\"] = [entry.to(device) for entry in batch[\"mask_labels\"]]\n",
    "        batch[\"class_labels\"] = [entry.to(device) for entry in batch[\"class_labels\"]]\n",
    "        # Compute output and loss\n",
    "        outputs = model(**batch)\n",
    "\n",
    "        loss = outputs.loss\n",
    "        # Record losses\n",
    "        current_loss = loss.item() * batch[\"pixel_values\"].size(0)\n",
    "        test_running_loss += current_loss\n",
    "        test_loader.set_postfix(loss=f\"{current_loss:.4f}\")\n",
    "\n",
    "        # Extract and compute metrics\n",
    "        pred_maps, masks = m2f_extract_pred_maps_and_masks(\n",
    "            batch, outputs, m2f_preprocessor_A\n",
    "        )\n",
    "        metric.add_batch(references=masks, predictions=pred_maps)\n",
    "        \n",
    "\n",
    "# After compute the batches that were added are deleted\n",
    "test_metrics_forgetting_A = metric.compute(\n",
    "    num_labels=NUM_CLASSES, ignore_index=BG_VALUE_255, reduce_labels=False\n",
    ")\n",
    "mean_test_iou = test_metrics_forgetting_A[\"mean_iou\"]\n",
    "\n",
    "final_test_loss = test_running_loss / len(dataloaders[CURR_TASK][\"test\"].dataset)\n",
    "wandb.log({\n",
    "    f\"Loss/test_random_replay_32mb_{CURR_TASK}\": final_test_loss,\n",
    "    f\"mIoU/test_random_replay_32mb_{CURR_TASK}\": mean_test_iou\n",
    "})\n",
    "print(f\"Test Loss: {final_test_loss:.4f}, Test mIoU: {mean_test_iou:.4f}\")\n"
   ]
  },
  {
   "cell_type": "code",
   "execution_count": null,
   "metadata": {
    "execution": {
     "iopub.execute_input": "2024-05-30T17:38:40.521740Z",
     "iopub.status.busy": "2024-05-30T17:38:40.521551Z",
     "iopub.status.idle": "2024-05-30T17:38:45.094996Z"
    }
   },
   "outputs": [
    {
     "name": "stdout",
     "output_type": "stream",
     "text": [
      "**** Overall mIoU ****\n",
      "mIoU on task A: 0.7877320741744921\n",
      "mIoU on task B: 0.8711453891218022\n",
      "mIoU on task A after training on B: 0.7207366617977596\n",
      "\n",
      "**** Per category mIoU ****\n",
      "Per category mIoU on task A: [0.95360882 0.91871854 0.687211   0.63869946 0.28185184 0.81372453\n",
      " 0.79456505 0.78816018 0.91600346 0.94137199 0.93113795]\n",
      "Per category mIoU on task B: [0.95921619 0.71816284 0.74091253 0.67861785 0.90445688 0.93730329\n",
      " 0.91828812 0.92046192 0.90004802 0.93650766 0.96862397]\n",
      "Per category mIoU on task A after training on B: [0.95080557 0.91341507 0.54542797 0.43005187 0.20140019 0.78958616\n",
      " 0.67288361 0.72030864 0.87443118 0.92154552 0.9082475 ]\n",
      "\n",
      "**** Average learning accuracies ****\n",
      "Average learning acc.: 0.8294387316481471\n",
      "Per category Average learning acc.: [0.9564125  0.81844069 0.71406176 0.65865865 0.59315436 0.87551391\n",
      " 0.85642659 0.85431105 0.90802574 0.93893983 0.94988096]\n",
      "\n",
      "**** Forgetting ****\n",
      "Total forgetting: 0.06699541237673245\n",
      "Per category forgetting: [0.00280326 0.00530346 0.14178303 0.20864758 0.08045165 0.02413836\n",
      " 0.12168145 0.06785154 0.04157228 0.01982647 0.02289045]\n"
     ]
    },
    {
     "data": {
      "text/html": [
       "<style>\n",
       "    table.wandb td:nth-child(1) { padding: 0 10px; text-align: left ; width: auto;} td:nth-child(2) {text-align: left ; width: 100%}\n",
       "    .wandb-row { display: flex; flex-direction: row; flex-wrap: wrap; justify-content: flex-start; width: 100% }\n",
       "    .wandb-col { display: flex; flex-direction: column; flex-basis: 100%; flex: 1; padding: 10px; }\n",
       "    </style>\n",
       "<div class=\"wandb-row\"><div class=\"wandb-col\"><h3>Run history:</h3><br/><table class=\"wandb\"><tr><td>Loss/test_B</td><td>▁</td></tr><tr><td>Loss/test_random_replay_32mb_A</td><td>▁</td></tr><tr><td>Loss/train_replay_A_B</td><td>█▆▄▄▃▃▃▂▂▂▂▂▂▂▂▂▂▂▁▁▁▁▁▁▁▁▁▁▁▁▁▁▁▁▁▁</td></tr><tr><td>Loss/val_replay_A_B</td><td>█▆▃▃▃▂▂▂▁▂▁▁▁▁▁▁▁▁▁▁▁▁▂▁▁▁▁▁▁▁▁▁▁▁▁▁</td></tr><tr><td>eval/avg_learning_acc</td><td>▁</td></tr><tr><td>eval/total_forgetting</td><td>▁</td></tr><tr><td>mIoU/test_B</td><td>▁</td></tr><tr><td>mIoU/test_random_replay_32mb_A</td><td>▁</td></tr><tr><td>mIoU/train_replay_A_B</td><td>▁▃▄▅▆▆▆▇▇▇▇▇▇▇███▇█▇██▇█████████████</td></tr><tr><td>mIoU/val_replay_A_B</td><td>▁▄▄▅▅▅▅▅▆▅▆▅▅█▆▇▆▇▆▆█▆▇▆▇▆▆▇▆▆▆▆▆▆▇▆</td></tr></table><br/></div><div class=\"wandb-col\"><h3>Run summary:</h3><br/><table class=\"wandb\"><tr><td>Loss/test_B</td><td>8.33123</td></tr><tr><td>Loss/test_random_replay_32mb_A</td><td>17.58275</td></tr><tr><td>Loss/train_replay_A_B</td><td>4.79243</td></tr><tr><td>Loss/val_replay_A_B</td><td>8.07463</td></tr><tr><td>eval/avg_learning_acc</td><td>0.82944</td></tr><tr><td>eval/total_forgetting</td><td>0.067</td></tr><tr><td>mIoU/test_B</td><td>0.87115</td></tr><tr><td>mIoU/test_random_replay_32mb_A</td><td>0.72074</td></tr><tr><td>mIoU/train_replay_A_B</td><td>0.96523</td></tr><tr><td>mIoU/val_replay_A_B</td><td>0.84291</td></tr></table><br/></div></div>"
      ],
      "text/plain": [
       "<IPython.core.display.HTML object>"
      ]
     },
     "metadata": {},
     "output_type": "display_data"
    },
    {
     "data": {
      "text/html": [
       " View run <strong style=\"color:#cdcd00\">M2F-Swin-Tiny-Max-Loss-32MBReplay</strong> at: <a href='https://wandb.ai/continual-learning-tum/M2F_original/runs/lnis54dr' target=\"_blank\">https://wandb.ai/continual-learning-tum/M2F_original/runs/lnis54dr</a><br/> View project at: <a href='https://wandb.ai/continual-learning-tum/M2F_original' target=\"_blank\">https://wandb.ai/continual-learning-tum/M2F_original</a><br/>Synced 5 W&B file(s), 0 media file(s), 0 artifact file(s) and 0 other file(s)"
      ],
      "text/plain": [
       "<IPython.core.display.HTML object>"
      ]
     },
     "metadata": {},
     "output_type": "display_data"
    },
    {
     "data": {
      "text/html": [
       "Find logs at: <code>./wandb/run-20240530_155224-lnis54dr/logs</code>"
      ],
      "text/plain": [
       "<IPython.core.display.HTML object>"
      ]
     },
     "metadata": {},
     "output_type": "display_data"
    }
   ],
   "source": [
    "# Collect overall mIoU\n",
    "mIoU_A = test_metrics_A[\"mean_iou\"]\n",
    "mIoU_forgetting_A = test_metrics_forgetting_A[\"mean_iou\"]\n",
    "mIoU_B = test_metrics_B[\"mean_iou\"]\n",
    "\n",
    "# Collect per category mIoU\n",
    "per_category_mIoU_A = np.array(test_metrics_A[\"per_category_iou\"])\n",
    "per_category_mIoU_forgetting_A = np.array(test_metrics_forgetting_A[\"per_category_iou\"])\n",
    "per_category_mIoU_B = np.array(test_metrics_B[\"per_category_iou\"])\n",
    "\n",
    "# Average learning accuracies (mIoUs)\n",
    "avg_learning_acc = (mIoU_A + mIoU_B) / 2\n",
    "per_category_avg_learning_acc = (per_category_mIoU_A + per_category_mIoU_B) / 2\n",
    "\n",
    "# Forgetting\n",
    "total_forgetting = mIoU_A - mIoU_forgetting_A\n",
    "per_category_forgetting = (per_category_mIoU_A - per_category_mIoU_forgetting_A)\n",
    "\n",
    "# Export evaluation metrics to WandB\n",
    "wandb.log({\n",
    "    \"eval/avg_learning_acc\": avg_learning_acc,\n",
    "    \"eval/per_category_avg_learning_acc\": per_category_avg_learning_acc,\n",
    "    \"eval/total_forgetting\": total_forgetting,\n",
    "    \"eval/per_category_forgetting\": per_category_forgetting\n",
    "})\n",
    "print(\"**** Overall mIoU ****\")\n",
    "print(f\"mIoU on task A: {mIoU_A}\")\n",
    "print(f\"mIoU on task B: {mIoU_B}\")\n",
    "print(f\"mIoU on task A after training on B: {mIoU_forgetting_A}\")\n",
    "\n",
    "print(\"\\n**** Per category mIoU ****\")\n",
    "print(f\"Per category mIoU on task A: {per_category_mIoU_A}\")\n",
    "print(f\"Per category mIoU on task B: {per_category_mIoU_B}\")\n",
    "print(f\"Per category mIoU on task A after training on B: {per_category_mIoU_forgetting_A}\")\n",
    "\n",
    "print(\"\\n**** Average learning accuracies ****\")\n",
    "print(f\"Average learning acc.: {avg_learning_acc}\")\n",
    "print(f\"Per category Average learning acc.: {per_category_avg_learning_acc}\")\n",
    "\n",
    "print(\"\\n**** Forgetting ****\")\n",
    "print(f\"Total forgetting: {total_forgetting}\")\n",
    "print(f\"Per category forgetting: {per_category_forgetting}\")\n",
    "wandb.finish()"
   ]
  },
  {
   "cell_type": "code",
   "execution_count": null,
   "metadata": {
    "execution": {
     "iopub.execute_input": "2024-05-30T17:38:45.096100Z",
     "iopub.status.busy": "2024-05-30T17:38:45.095846Z",
     "iopub.status.idle": "2024-05-30T17:38:45.138613Z"
    }
   },
   "outputs": [
    {
     "data": {
      "text/plain": [
       "(array([0.95360882, 0.91871854, 0.687211  , 0.63869946, 0.28185184,\n",
       "        0.81372453, 0.79456505, 0.78816018, 0.91600346, 0.94137199,\n",
       "        0.93113795]),\n",
       " array([0.95921619, 0.71816284, 0.74091253, 0.67861785, 0.90445688,\n",
       "        0.93730329, 0.91828812, 0.92046192, 0.90004802, 0.93650766,\n",
       "        0.96862397]),\n",
       " array([0.95080557, 0.91341507, 0.54542797, 0.43005187, 0.20140019,\n",
       "        0.78958616, 0.67288361, 0.72030864, 0.87443118, 0.92154552,\n",
       "        0.9082475 ]),\n",
       " array([0.9564125 , 0.81844069, 0.71406176, 0.65865865, 0.59315436,\n",
       "        0.87551391, 0.85642659, 0.85431105, 0.90802574, 0.93893983,\n",
       "        0.94988096]),\n",
       " array([0.00280326, 0.00530346, 0.14178303, 0.20864758, 0.08045165,\n",
       "        0.02413836, 0.12168145, 0.06785154, 0.04157228, 0.01982647,\n",
       "        0.02289045]))"
      ]
     },
     "execution_count": 24,
     "metadata": {},
     "output_type": "execute_result"
    }
   ],
   "source": [
    "per_category_mIoU_A,per_category_mIoU_B, per_category_mIoU_forgetting_A,per_category_avg_learning_acc,per_category_forgetting,"
   ]
  },
  {
   "cell_type": "code",
   "execution_count": null,
   "metadata": {},
   "outputs": [],
   "source": []
  }
 ],
 "metadata": {
  "kernelspec": {
   "display_name": "venv",
   "language": "python",
   "name": "venv"
  },
  "language_info": {
   "codemirror_mode": {
    "name": "ipython",
    "version": 3
   },
   "file_extension": ".py",
   "mimetype": "text/x-python",
   "name": "python",
   "nbconvert_exporter": "python",
   "pygments_lexer": "ipython3",
   "version": "3.12.3"
  }
 },
 "nbformat": 4,
 "nbformat_minor": 4
}
